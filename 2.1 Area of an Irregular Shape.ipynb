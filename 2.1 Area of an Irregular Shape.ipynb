{
 "cells": [
  {
   "cell_type": "code",
   "execution_count": 1,
   "metadata": {
    "collapsed": true
   },
   "outputs": [
    {
     "ename": "ModuleNotFoundError",
     "evalue": "No module named 'shapely'",
     "output_type": "error",
     "traceback": [
      "\u001B[1;31m---------------------------------------------------------------------------\u001B[0m",
      "\u001B[1;31mModuleNotFoundError\u001B[0m                       Traceback (most recent call last)",
      "Cell \u001B[1;32mIn[1], line 3\u001B[0m\n\u001B[0;32m      1\u001B[0m \u001B[38;5;28;01mimport\u001B[39;00m \u001B[38;5;21;01mrandom\u001B[39;00m\n\u001B[0;32m      2\u001B[0m \u001B[38;5;28;01mimport\u001B[39;00m \u001B[38;5;21;01mmatplotlib\u001B[39;00m\u001B[38;5;21;01m.\u001B[39;00m\u001B[38;5;21;01mpyplot\u001B[39;00m \u001B[38;5;28;01mas\u001B[39;00m \u001B[38;5;21;01mplt\u001B[39;00m\n\u001B[1;32m----> 3\u001B[0m \u001B[38;5;28;01mfrom\u001B[39;00m \u001B[38;5;21;01mshapely\u001B[39;00m\u001B[38;5;21;01m.\u001B[39;00m\u001B[38;5;21;01mgeometry\u001B[39;00m \u001B[38;5;28;01mimport\u001B[39;00m Point, Polygon\n",
      "\u001B[1;31mModuleNotFoundError\u001B[0m: No module named 'shapely'"
     ]
    }
   ],
   "source": [
    "import random\n",
    "import matplotlib.pyplot as plt\n",
    "from shapely.geometry import Point, Polygon"
   ]
  },
  {
   "cell_type": "code",
   "execution_count": null,
   "outputs": [],
   "source": [
    "x_point = []\n",
    "y_point = []\n",
    "\n",
    "coords = [(1, 1), (10, 95), (40, 70), (50, 50),(30,20)]\n",
    "map = Polygon(coords)\n",
    "\n",
    "# for i in coords:\n",
    "#     a = i[0]\n",
    "#     b = i[1]\n",
    "#     x_point.append(a)\n",
    "#     y_point.append(b)\n",
    "# x_point.append(x_point[0])\n",
    "# y_point.append(y_point[0])\n",
    "# plt.plot(x_point,y_point,color=\"red\")\n",
    "\n",
    "n=0\n",
    "m=0\n",
    "for i in range(2000):\n",
    "    x = random.randint(0,50)\n",
    "    y = random.randint(0,100)\n",
    "    point = Point(x,y)\n",
    "    if(map.contains(point)):\n",
    "        m+=1\n",
    "    n+=1\n",
    "    plt.scatter(x,y)\n",
    "\n",
    "\n",
    "plt.show()\n",
    "print(\"Actual Area : \",map.area)\n",
    "print(\"Predicted Area : \",(m/n)*(100*50))"
   ],
   "metadata": {
    "collapsed": false
   }
  }
 ],
 "metadata": {
  "kernelspec": {
   "display_name": "Python 3",
   "language": "python",
   "name": "python3"
  },
  "language_info": {
   "codemirror_mode": {
    "name": "ipython",
    "version": 2
   },
   "file_extension": ".py",
   "mimetype": "text/x-python",
   "name": "python",
   "nbconvert_exporter": "python",
   "pygments_lexer": "ipython2",
   "version": "2.7.6"
  }
 },
 "nbformat": 4,
 "nbformat_minor": 0
}
