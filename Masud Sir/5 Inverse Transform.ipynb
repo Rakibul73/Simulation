{
 "cells": [
  {
   "cell_type": "markdown",
   "source": [
    " ### Lab 05:Random variates using the inverse transform function:\n",
    "There are several general approaches to generating univariate Random Variable from the distribution function. Write a program which generates the desired number of random variates using the inverse transform function.\n",
    "\n",
    "\n",
    "#### Given the exponential CDF: F(x) = 1 - e^(-λx),\n",
    "#### The inverse CDF: F^(-1)(X) = Y = -ln(1 - X) / λ."
   ],
   "metadata": {
    "collapsed": false
   }
  },
  {
   "cell_type": "code",
   "execution_count": null,
   "metadata": {
    "collapsed": true
   },
   "outputs": [],
   "source": [
    "import numpy as np\n",
    "import matplotlib.pyplot as plt"
   ]
  },
  {
   "cell_type": "code",
   "execution_count": null,
   "outputs": [],
   "source": [
    "output = []\n",
    "Lambda = 1"
   ],
   "metadata": {
    "collapsed": false
   }
  },
  {
   "cell_type": "code",
   "execution_count": null,
   "outputs": [],
   "source": [
    "def inverse_transform(X, Lambda):\n",
    "    return -np.log(1 - X) / Lambda"
   ],
   "metadata": {
    "collapsed": false
   }
  },
  {
   "cell_type": "code",
   "execution_count": null,
   "outputs": [],
   "source": [
    "for i in range(10000):\n",
    "    X = np.random.rand()\n",
    "    inv_variate = inverse_transform(X, Lambda)\n",
    "    output.append(inv_variate)"
   ],
   "metadata": {
    "collapsed": false
   }
  },
  {
   "cell_type": "code",
   "execution_count": null,
   "outputs": [],
   "source": [
    "plt.hist(output, bins=60, density=True, alpha=0.6, color='g')\n",
    "plt.xlabel('Value')\n",
    "plt.ylabel('Probability Density')\n",
    "plt.title('Generated Samples from Inverse Transform Function')\n",
    "plt.show()"
   ],
   "metadata": {
    "collapsed": false
   }
  }
 ],
 "metadata": {
  "kernelspec": {
   "display_name": "Python 3",
   "language": "python",
   "name": "python3"
  },
  "language_info": {
   "codemirror_mode": {
    "name": "ipython",
    "version": 2
   },
   "file_extension": ".py",
   "mimetype": "text/x-python",
   "name": "python",
   "nbconvert_exporter": "python",
   "pygments_lexer": "ipython2",
   "version": "2.7.6"
  }
 },
 "nbformat": 4,
 "nbformat_minor": 0
}
