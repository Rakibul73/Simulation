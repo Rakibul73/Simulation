{
 "cells": [
  {
   "cell_type": "markdown",
   "source": [
    "#### Lab 04: Exponential Distribution:\n",
    "There were few waves in COVID-19 pandemic. Let a wave occurs every 100 days in Bangladesh, on average. After a wave occurs, find the probability using Exponential distribution that it will take more than 120 days for the next wave to occur. Simulate several Exponential distribution using rate parameters 0.5, 1.0, 2.0, and 4.0.\n",
    "\n",
    "\n",
    "``` We know Exponential Distribution = 1- e^(-X/Beta)\n",
    "where Beta means average value, mean and lambda means rate parameter\n",
    "so Beta = 1 / lambda ```"
   ],
   "metadata": {
    "collapsed": false
   }
  },
  {
   "cell_type": "code",
   "execution_count": 52,
   "metadata": {
    "collapsed": true,
    "ExecuteTime": {
     "end_time": "2023-08-10T03:01:27.687584900Z",
     "start_time": "2023-08-10T03:01:27.666363600Z"
    }
   },
   "outputs": [],
   "source": [
    "import numpy as np"
   ]
  },
  {
   "cell_type": "code",
   "execution_count": 53,
   "outputs": [],
   "source": [
    "Beta = 100  # Mean or Average\n",
    "Lambda = [0.5, 1, 2, 4]  # Rate Parameter\n",
    "X = 120"
   ],
   "metadata": {
    "collapsed": false,
    "ExecuteTime": {
     "end_time": "2023-08-10T03:01:27.687584900Z",
     "start_time": "2023-08-10T03:01:27.672837100Z"
    }
   }
  },
  {
   "cell_type": "code",
   "execution_count": 54,
   "outputs": [],
   "source": [
    "def exponential_distribution_with_beta(X, Beta):\n",
    "    probability = 1 - np.exp(-X / Beta)\n",
    "    return probability\n",
    "\n",
    "\n",
    "def exponential_distribution_with_lambda(X, Lambda):\n",
    "    probability = 1 - np.exp(-X * Lambda)\n",
    "    return probability"
   ],
   "metadata": {
    "collapsed": false,
    "ExecuteTime": {
     "end_time": "2023-08-10T03:01:27.719280Z",
     "start_time": "2023-08-10T03:01:27.687584900Z"
    }
   }
  },
  {
   "cell_type": "code",
   "execution_count": 55,
   "outputs": [
    {
     "name": "stdout",
     "output_type": "stream",
     "text": [
      "When average =  120 it will take more than 120 days for the next wave to occur 69.88  % \n"
     ]
    }
   ],
   "source": [
    "probability = exponential_distribution_with_beta(X, Beta)\n",
    "print(\"When average = \", X, \"it will take more than 120 days for the next wave to occur\", round(probability * 100, 2),\n",
    "      \" % \")"
   ],
   "metadata": {
    "collapsed": false,
    "ExecuteTime": {
     "end_time": "2023-08-10T03:01:27.722281500Z",
     "start_time": "2023-08-10T03:01:27.688583400Z"
    }
   }
  },
  {
   "cell_type": "code",
   "execution_count": 56,
   "outputs": [
    {
     "name": "stdout",
     "output_type": "stream",
     "text": [
      "When rate =  0.5 It will take more than 120 days for the next wave to occur 100.0  % \n",
      "When rate =  1 It will take more than 120 days for the next wave to occur 100.0  % \n",
      "When rate =  2 It will take more than 120 days for the next wave to occur 100.0  % \n",
      "When rate =  4 It will take more than 120 days for the next wave to occur 100.0  % \n"
     ]
    }
   ],
   "source": [
    "for lam in Lambda:\n",
    "    probability = exponential_distribution_with_lambda(X, lam)\n",
    "    print(\"When rate = \", lam, \"It will take more than 120 days for the next wave to occur\",\n",
    "          round(probability * 100, 2), \" % \")"
   ],
   "metadata": {
    "collapsed": false,
    "ExecuteTime": {
     "end_time": "2023-08-10T03:01:27.722281500Z",
     "start_time": "2023-08-10T03:01:27.693770200Z"
    }
   }
  }
 ],
 "metadata": {
  "kernelspec": {
   "display_name": "Python 3",
   "language": "python",
   "name": "python3"
  },
  "language_info": {
   "codemirror_mode": {
    "name": "ipython",
    "version": 2
   },
   "file_extension": ".py",
   "mimetype": "text/x-python",
   "name": "python",
   "nbconvert_exporter": "python",
   "pygments_lexer": "ipython2",
   "version": "2.7.6"
  }
 },
 "nbformat": 4,
 "nbformat_minor": 0
}
