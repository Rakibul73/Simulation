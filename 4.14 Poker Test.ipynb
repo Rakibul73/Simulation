{
 "cells": [
  {
   "cell_type": "code",
   "execution_count": 1,
   "metadata": {
    "collapsed": true,
    "ExecuteTime": {
     "end_time": "2023-08-12T09:09:33.399525Z",
     "start_time": "2023-08-12T09:09:33.370565100Z"
    }
   },
   "outputs": [],
   "source": [
    "import math\n",
    "import random\n",
    "\n",
    "four_different_digit = (10 / 10) * (9 / 10) * (8 / 10) * (7 / 10)\n",
    "three_different_digit = (10 / 10) * (1 / 10) * (1 / 10) * (9 / 10)\n",
    "all_digit_equal = (10 / 10) * (1 / 10) * (1 / 10) * (1 / 10)\n",
    "one_pair = math.comb(4, 2) * (10 / 10) * (1 / 10) * (9 / 10) * (8 / 10)\n",
    "two_pair = math.comb(4, 2) * (10 / 10) * (1 / 10) * (9 / 10) * (1 / 10)"
   ]
  },
  {
   "cell_type": "code",
   "execution_count": 2,
   "outputs": [
    {
     "ename": "NameError",
     "evalue": "name 'sort' is not defined",
     "output_type": "error",
     "traceback": [
      "\u001B[1;31m---------------------------------------------------------------------------\u001B[0m",
      "\u001B[1;31mNameError\u001B[0m                                 Traceback (most recent call last)",
      "Cell \u001B[1;32mIn[2], line 4\u001B[0m\n\u001B[0;32m      2\u001B[0m rn \u001B[38;5;241m=\u001B[39m random\u001B[38;5;241m.\u001B[39mrandint(\u001B[38;5;241m1000\u001B[39m,\u001B[38;5;241m9999\u001B[39m)\n\u001B[0;32m      3\u001B[0m st \u001B[38;5;241m=\u001B[39m \u001B[38;5;28mstr\u001B[39m(rn)\n\u001B[1;32m----> 4\u001B[0m \u001B[43msort\u001B[49m(st)\n\u001B[0;32m      5\u001B[0m \u001B[38;5;28mprint\u001B[39m(st)\n",
      "\u001B[1;31mNameError\u001B[0m: name 'sort' is not defined"
     ]
    }
   ],
   "source": [
    "for i in range(100):\n",
    "    rn = random.randint(1000,9999)\n",
    "    st = str(rn)\n",
    "    sort(st)\n",
    "    print(st)"
   ],
   "metadata": {
    "collapsed": false,
    "ExecuteTime": {
     "end_time": "2023-08-12T09:09:34.055105300Z",
     "start_time": "2023-08-12T09:09:33.382012600Z"
    }
   }
  }
 ],
 "metadata": {
  "kernelspec": {
   "display_name": "Python 3",
   "language": "python",
   "name": "python3"
  },
  "language_info": {
   "codemirror_mode": {
    "name": "ipython",
    "version": 2
   },
   "file_extension": ".py",
   "mimetype": "text/x-python",
   "name": "python",
   "nbconvert_exporter": "python",
   "pygments_lexer": "ipython2",
   "version": "2.7.6"
  }
 },
 "nbformat": 4,
 "nbformat_minor": 0
}
