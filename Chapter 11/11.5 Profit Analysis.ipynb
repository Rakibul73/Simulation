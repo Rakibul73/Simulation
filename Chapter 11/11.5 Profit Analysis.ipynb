{
 "cells": [
  {
   "cell_type": "code",
   "execution_count": 5,
   "metadata": {
    "collapsed": true,
    "ExecuteTime": {
     "end_time": "2023-08-12T12:11:01.535422300Z",
     "start_time": "2023-08-12T12:11:01.531822600Z"
    }
   },
   "outputs": [
    {
     "name": "stdout",
     "output_type": "stream",
     "text": [
      "[-10885.0, -10879.95, -9847.92, -7811.5, -6583.84, -6075.58, -5916.85, -4467.39, -3467.16, -3235.2, -2043.45, -1513.2, -748.5, 604.2, 967.42, 2474.49, 4277.76, 5352.42, 7667.32, 7758.0, 8219.36, 8837.6, 9770.36, 9826.56, 10181.28, 11858.55, 13788.66, 14321.52, 16811.49, 18587.25]\n"
     ]
    }
   ],
   "source": [
    "import random\n",
    "\n",
    "n = 30\n",
    "sp = 10\n",
    "fc = 60000\n",
    "profit_lst = []\n",
    "for i in range(30):\n",
    "    vc = random.randint(450, 550) / 100\n",
    "    demand = 0\n",
    "    reaction = random.randint(1, 10)\n",
    "    if reaction <= 6:\n",
    "        demand = random.randint(10000, 12000)\n",
    "    else:\n",
    "        demand = random.randint(13000, 15000)\n",
    "    profit = round(demand * (sp - vc) - fc, 2)\n",
    "    profit_lst.append(profit)\n",
    "\n",
    "profit_lst.sort()\n",
    "print(profit_lst)"
   ]
  }
 ],
 "metadata": {
  "kernelspec": {
   "display_name": "Python 3",
   "language": "python",
   "name": "python3"
  },
  "language_info": {
   "codemirror_mode": {
    "name": "ipython",
    "version": 2
   },
   "file_extension": ".py",
   "mimetype": "text/x-python",
   "name": "python",
   "nbconvert_exporter": "python",
   "pygments_lexer": "ipython2",
   "version": "2.7.6"
  }
 },
 "nbformat": 4,
 "nbformat_minor": 0
}
