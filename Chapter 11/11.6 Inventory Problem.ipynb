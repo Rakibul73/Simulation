{
 "cells": [
  {
   "cell_type": "code",
   "execution_count": 9,
   "metadata": {
    "collapsed": true,
    "ExecuteTime": {
     "end_time": "2023-08-12T12:46:25.588050600Z",
     "start_time": "2023-08-12T12:46:25.584535200Z"
    }
   },
   "outputs": [],
   "source": [
    "import random\n",
    "\n",
    "order_cost = 100\n",
    "holding_cost = 5\n",
    "\n",
    "total_order_cost = 0\n",
    "total_holding_cost = 0\n",
    "\n",
    "demand_cumulative_probability = [0, 20, 70, 85, 95, 100]\n",
    "demand_lst = [0, 1, 2, 3, 4]\n",
    "\n",
    "lead_time_probability = [0, 10, 35, 85, 95, 100]\n",
    "lead_time = [1, 2, 3, 4, 5]\n",
    "\n",
    "inventory = 8\n",
    "n = 30\n",
    "sell = 0\n",
    "lost = 0\n",
    "reorder_point = 3\n",
    "order_quantity = 5"
   ]
  },
  {
   "cell_type": "code",
   "execution_count": 10,
   "outputs": [],
   "source": [
    "def lead_time_func():\n",
    "    rn = random.randint(1, 100)\n",
    "    for i in range(len(lead_time_probability) - 1):\n",
    "        if lead_time_probability[i] < rn <= lead_time_probability[i + 1]:\n",
    "            return lead_time[i]"
   ],
   "metadata": {
    "collapsed": false,
    "ExecuteTime": {
     "end_time": "2023-08-12T12:46:25.597081400Z",
     "start_time": "2023-08-12T12:46:25.589050100Z"
    }
   }
  },
  {
   "cell_type": "code",
   "execution_count": 11,
   "outputs": [
    {
     "name": "stdout",
     "output_type": "stream",
     "text": [
      "700 360 16\n"
     ]
    }
   ],
   "source": [
    "order_in_progress = False\n",
    "count = -1\n",
    "\n",
    "for _ in range(n):\n",
    "    demand = 0\n",
    "    rn = random.randint(1, 100)\n",
    "\n",
    "    for i in range(len(demand_cumulative_probability) - 1):\n",
    "        if demand_cumulative_probability[i] < rn <= demand_cumulative_probability[i + 1]:\n",
    "            demand = demand_lst[i]\n",
    "\n",
    "    if inventory >= demand:\n",
    "        inventory -= demand\n",
    "        sell += demand\n",
    "    else:\n",
    "        inventory = 0\n",
    "        lost += demand - inventory\n",
    "\n",
    "    if inventory <= reorder_point:\n",
    "        if order_in_progress == False:\n",
    "            order_in_progress = True\n",
    "            count = lead_time_func()\n",
    "            total_order_cost += 100\n",
    "\n",
    "    total_holding_cost += inventory * 5\n",
    "\n",
    "    if count > 0:\n",
    "        count -= 1\n",
    "    if count == 0 and order_in_progress == True:\n",
    "        order_in_progress = False\n",
    "        inventory += order_quantity\n",
    "\n",
    "print(total_order_cost, total_holding_cost, lost)\n"
   ],
   "metadata": {
    "collapsed": false,
    "ExecuteTime": {
     "end_time": "2023-08-12T12:46:25.603984100Z",
     "start_time": "2023-08-12T12:46:25.599082600Z"
    }
   }
  }
 ],
 "metadata": {
  "kernelspec": {
   "display_name": "Python 3",
   "language": "python",
   "name": "python3"
  },
  "language_info": {
   "codemirror_mode": {
    "name": "ipython",
    "version": 2
   },
   "file_extension": ".py",
   "mimetype": "text/x-python",
   "name": "python",
   "nbconvert_exporter": "python",
   "pygments_lexer": "ipython2",
   "version": "2.7.6"
  }
 },
 "nbformat": 4,
 "nbformat_minor": 0
}
