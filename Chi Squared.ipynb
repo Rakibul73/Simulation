{
 "cells": [
  {
   "cell_type": "code",
   "execution_count": 11,
   "metadata": {
    "collapsed": true
   },
   "outputs": [
    {
     "name": "stdout",
     "output_type": "stream",
     "text": [
      "[60, 5, 66, 83, 13, 73, 77, 32, 29, 87, 65, 70, 38, 10, 34, 55, 37, 94, 59, 89, 91, 20, 67, 96, 85, 39, 23, 9, 21, 80, 71, 51, 82, 0, 1, 14, 86, 52, 95, 72, 64, 57, 63, 44, 88, 78, 45, 4, 53, 11, 47, 30, 3, 40, 36, 81, 84, 26, 48, 43, 75, 6, 79, 58, 76, 19, 54, 24, 22, 93, 46, 17, 28, 74, 90, 7, 92, 33, 42, 62, 31, 16, 15, 2, 27, 61, 18, 41, 49, 56, 50, 69, 25, 35, 68, 12, 60, 5, 66, 83]\n"
     ]
    }
   ],
   "source": [
    "ri = [12]\n",
    "a = 13\n",
    "b = 1\n",
    "m = 97\n",
    "n = 100\n",
    "\n",
    "i = 1\n",
    "while i <= n:\n",
    "    rn = ((a * ri[i - 1]) + b) % m\n",
    "    ri.append(rn)\n",
    "    i += 1\n",
    "\n",
    "ri = ri[1:]\n",
    "print(ri)"
   ]
  },
  {
   "cell_type": "code",
   "execution_count": 12,
   "outputs": [
    {
     "data": {
      "text/plain": "[0, 10, 20, 30, 40, 50, 60, 70, 80, 90, 100]"
     },
     "execution_count": 12,
     "metadata": {},
     "output_type": "execute_result"
    }
   ],
   "source": [
    "cls = []\n",
    "\n",
    "i = 0\n",
    "while i<=n:\n",
    "    cls.append(i)\n",
    "    i+=10\n",
    "cls"
   ],
   "metadata": {
    "collapsed": false
   }
  },
  {
   "cell_type": "code",
   "execution_count": 12,
   "outputs": [],
   "source": [],
   "metadata": {
    "collapsed": false
   }
  }
 ],
 "metadata": {
  "kernelspec": {
   "display_name": "Python 3",
   "language": "python",
   "name": "python3"
  },
  "language_info": {
   "codemirror_mode": {
    "name": "ipython",
    "version": 2
   },
   "file_extension": ".py",
   "mimetype": "text/x-python",
   "name": "python",
   "nbconvert_exporter": "python",
   "pygments_lexer": "ipython2",
   "version": "2.7.6"
  }
 },
 "nbformat": 4,
 "nbformat_minor": 0
}
