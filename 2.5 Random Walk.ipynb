{
 "cells": [
  {
   "cell_type": "code",
   "execution_count": 1,
   "metadata": {
    "collapsed": true
   },
   "outputs": [],
   "source": [
    "import math\n",
    "import random\n",
    "import matplotlib.pyplot as plt"
   ]
  },
  {
   "cell_type": "code",
   "execution_count": 2,
   "outputs": [],
   "source": [
    "step = 0\n",
    "x = 0\n",
    "y = 0\n",
    "dotx = []\n",
    "doty = []\n",
    "direction = []\n",
    "\n",
    "F_L_R = [0.5, 0.3, 0.2]\n",
    "F_L_R = [int(10 * i) for i in F_L_R]\n",
    "\n",
    "while step <= 50:\n",
    "    rn = random.randint(0, 9)\n",
    "\n",
    "    if rn in range(F_L_R[0]):\n",
    "        direction.append('F')\n",
    "        y += 1\n",
    "        dotx.append(x)\n",
    "        doty.append(y)\n",
    "    elif rn in range(F_L_R[0] , F_L_R[0] + F_L_R[1]):\n",
    "        direction.append('L')\n",
    "        x -= 1\n",
    "        dotx.append(x)\n",
    "        doty.append(y)\n",
    "    else:\n",
    "        direction.append('R')\n",
    "        x += 1\n",
    "        dotx.append(x)\n",
    "        doty.append(y)\n",
    "\n",
    "    step += 1"
   ],
   "metadata": {
    "collapsed": false
   }
  },
  {
   "cell_type": "code",
   "execution_count": 3,
   "outputs": [
    {
     "data": {
      "text/plain": "<Figure size 640x480 with 1 Axes>",
      "image/png": "[encoded data removed]"
     },
     "metadata": {},
     "output_type": "display_data"
    },
    {
     "data": {
      "text/plain": "['F',\n 'L',\n 'F',\n 'F',\n 'F',\n 'L',\n 'L',\n 'R',\n 'F',\n 'F',\n 'R',\n 'L',\n 'F',\n 'F',\n 'F',\n 'F',\n 'L',\n 'F',\n 'R',\n 'L',\n 'L',\n 'L',\n 'L',\n 'R',\n 'F',\n 'F',\n 'L',\n 'R',\n 'R',\n 'R',\n 'L',\n 'F',\n 'F',\n 'L',\n 'F',\n 'F',\n 'F',\n 'L',\n 'F',\n 'R',\n 'F',\n 'F',\n 'F',\n 'R',\n 'F',\n 'R',\n 'R',\n 'F',\n 'F',\n 'F',\n 'F']"
     },
     "execution_count": 3,
     "metadata": {},
     "output_type": "execute_result"
    }
   ],
   "source": [
    "plt.plot(dotx, doty)\n",
    "plt.show()\n",
    "direction"
   ],
   "metadata": {
    "collapsed": false
   }
  },
  {
   "cell_type": "code",
   "execution_count": 3,
   "outputs": [],
   "source": [],
   "metadata": {
    "collapsed": false
   }
  }
 ],
 "metadata": {
  "kernelspec": {
   "display_name": "Python 3",
   "language": "python",
   "name": "python3"
  },
  "language_info": {
   "codemirror_mode": {
    "name": "ipython",
    "version": 2
   },
   "file_extension": ".py",
   "mimetype": "text/x-python",
   "name": "python",
   "nbconvert_exporter": "python",
   "pygments_lexer": "ipython2",
   "version": "2.7.6"
  }
 },
 "nbformat": 4,
 "nbformat_minor": 0
}
