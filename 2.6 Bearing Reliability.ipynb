{
 "cells": [
  {
   "cell_type": "code",
   "execution_count": 86,
   "metadata": {
    "collapsed": true
   },
   "outputs": [],
   "source": [
    "import math\n",
    "import random\n",
    "import matplotlib.pyplot as plt"
   ]
  },
  {
   "cell_type": "code",
   "execution_count": 87,
   "outputs": [],
   "source": [
    "life = [1000, 1100, 1200, 1300, 1400, 1500, 1600, 1700, 1800, 1900]\n",
    "probability = [0.10, .14, .24, .14, .12, .10, .06, .05, .03, 0.02]\n",
    "probability = [int(i * 100) for i in probability]\n",
    "c_probability = [probability[0]]\n",
    "i = 1\n",
    "while i < len(probability):\n",
    "    c_probability.append(c_probability[i - 1] + probability[i])\n",
    "    i += 1\n",
    "\n",
    "delay = [4, 6, 8]\n",
    "delay_probability = [0.3, 0.6, 0.1]\n",
    "delay_probability = [int(i * 10) for i in delay_probability]\n",
    "c_delay_pro = [delay_probability[0]]\n",
    "i = 1\n",
    "while i < len(delay_probability):\n",
    "    c_delay_pro.append(c_delay_pro[i - 1] + delay_probability[i])\n",
    "    i += 1"
   ],
   "metadata": {
    "collapsed": false
   }
  },
  {
   "cell_type": "code",
   "execution_count": 88,
   "outputs": [],
   "source": [
    "def clock(x):\n",
    "    if x <= c_probability[0]:\n",
    "        return life[0]\n",
    "    elif x <= c_probability[1]:\n",
    "        return life[1]\n",
    "    elif x <= c_probability[2]:\n",
    "        return life[2]\n",
    "    elif x <= c_probability[3]:\n",
    "        return life[3]\n",
    "    elif x <= c_probability[4]:\n",
    "        return life[4]\n",
    "    elif x <= c_probability[5]:\n",
    "        return life[5]\n",
    "    elif x <= c_probability[6]:\n",
    "        return life[6]\n",
    "    elif x <= c_probability[7]:\n",
    "        return life[7]\n",
    "    elif x <= c_probability[8]:\n",
    "        return life[8]\n",
    "    else:\n",
    "        return life[9]\n",
    "\n",
    "\n",
    "def late():\n",
    "    x = random.randint(1, 10)\n",
    "    if x <= c_delay_pro[0]:\n",
    "        return delay[0]\n",
    "    elif x <= c_delay_pro[1]:\n",
    "        return delay[1]\n",
    "    else:\n",
    "        return delay[2]"
   ],
   "metadata": {
    "collapsed": false
   }
  },
  {
   "cell_type": "code",
   "execution_count": 89,
   "outputs": [
    {
     "name": "stdout",
     "output_type": "stream",
     "text": [
      "[1300, 1500, 1300] 12 60 60 20.833333333333336\n",
      "[1300, 1600, 1100] 16 60 80 25.0\n",
      "[1100, 1200, 1300] 16 60 80 25.0\n",
      "[1700, 1200, 1600] 16 60 80 25.0\n",
      "[1200, 1200, 1400] 8 60 40 20.833333333333336\n",
      "[1200, 1700, 1300] 14 60 70 25.0\n",
      "[1400, 1200, 1100] 16 60 80 25.0\n",
      "[1600, 1100, 1300] 18 60 90 25.0\n",
      "[1200, 1200, 1200] 6 60 30 16.666666666666668\n",
      "[1500, 1900, 1200] 16 60 80 25.0\n",
      "[1400, 1600, 1200] 16 60 80 25.0\n",
      "[1000, 1100, 1200] 18 60 90 25.0\n",
      "[1100, 1400, 1200] 18 60 90 25.0\n",
      "[1300, 1700, 1100] 18 60 90 25.0\n",
      "[1000, 1200, 1400] 18 60 90 25.0\n",
      "[1200, 1100, 1000] 16 60 80 25.0\n",
      "[1200, 1200, 1100] 12 60 60 20.833333333333336\n",
      "[1300, 1400, 1200] 18 60 90 25.0\n",
      "[1100, 1400, 1100] 10 60 50 20.833333333333336\n",
      "[1400, 1200, 1200] 10 60 50 20.833333333333336\n",
      "1200 1460 470.8333333333333 3130.8333333333335\n"
     ]
    }
   ],
   "source": [
    "total_cost = 0\n",
    "total_bearing_cost = 0\n",
    "total_delay_cost = 0\n",
    "total_repair_cost = 0\n",
    "\n",
    "for i in range(20):\n",
    "    bearing_life = []\n",
    "    repair_time = 0\n",
    "    delay_time = 0\n",
    "    for i in range(3):\n",
    "        rd = random.randint(1, 100)\n",
    "        bearing_life.append(clock(rd))\n",
    "\n",
    "    if bearing_life[0] == bearing_life[1] == bearing_life[2]:\n",
    "        delay_time += late()\n",
    "        repair_time += 40\n",
    "\n",
    "    elif bearing_life[0] == bearing_life[1] or bearing_life[1] == bearing_life[2] or bearing_life[0] == bearing_life[2]:\n",
    "        repair_time += (30 + 20)\n",
    "        delay_time += late()\n",
    "        delay_time += late()\n",
    "    else:\n",
    "        repair_time += (20 * 3)\n",
    "        delay_time += late()\n",
    "        delay_time += late()\n",
    "        delay_time += late()\n",
    "\n",
    "    bearing_cost = 3 * 20\n",
    "    delay_cost = delay_time * 5\n",
    "    repair_cost = repair_time * (25 / 60)\n",
    "\n",
    "    total_bearing_cost += bearing_cost\n",
    "    total_delay_cost += delay_cost\n",
    "    total_repair_cost += repair_cost\n",
    "    total_cost = total_bearing_cost + total_delay_cost + total_repair_cost\n",
    "\n",
    "    print(bearing_life, delay_time, bearing_cost, delay_cost, repair_cost)\n",
    "\n",
    "print(total_bearing_cost, total_delay_cost, total_repair_cost, total_cost)"
   ],
   "metadata": {
    "collapsed": false
   }
  },
  {
   "cell_type": "code",
   "execution_count": 89,
   "outputs": [],
   "source": [],
   "metadata": {
    "collapsed": false
   }
  }
 ],
 "metadata": {
  "kernelspec": {
   "display_name": "Python 3",
   "language": "python",
   "name": "python3"
  },
  "language_info": {
   "codemirror_mode": {
    "name": "ipython",
    "version": 2
   },
   "file_extension": ".py",
   "mimetype": "text/x-python",
   "name": "python",
   "nbconvert_exporter": "python",
   "pygments_lexer": "ipython2",
   "version": "2.7.6"
  }
 },
 "nbformat": 4,
 "nbformat_minor": 0
}
